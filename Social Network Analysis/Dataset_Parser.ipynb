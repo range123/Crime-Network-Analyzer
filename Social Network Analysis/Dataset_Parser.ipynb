{
 "cells": [
  {
   "cell_type": "code",
   "execution_count": 5,
   "metadata": {},
   "outputs": [],
   "source": [
    "import pandas as pd\n",
    "from docx.api import Document"
   ]
  },
  {
   "cell_type": "code",
   "execution_count": 6,
   "metadata": {},
   "outputs": [],
   "source": [
    "path = './dataset/crimeDB-saved.docx'\n"
   ]
  },
  {
   "cell_type": "code",
   "execution_count": 7,
   "metadata": {},
   "outputs": [],
   "source": [
    "def remove_dup(row):\n",
    "    b = []\n",
    "    for x in row:\n",
    "        if x not in b:\n",
    "            b.append(x)\n",
    "    return b"
   ]
  },
  {
   "cell_type": "code",
   "execution_count": 8,
   "metadata": {},
   "outputs": [],
   "source": [
    "# for x in document.tables:\n",
    "def get_data(table):\n",
    "    x = table\n",
    "    data = []\n",
    "    for y in x.rows:\n",
    "        data.append(remove_dup([i.text.strip().lower().replace('\\n','').replace('\\t','').replace(' ','') for i in y.cells]))\n",
    "    return data"
   ]
  },
  {
   "cell_type": "code",
   "execution_count": 9,
   "metadata": {},
   "outputs": [],
   "source": [
    "def getnamefromfield(name):\n",
    "    name_with_ma = name.split(',')[0]\n",
    "    return name_with_ma.split('m/a')[0].split('f/a')[0].split('s/o')[0].split('f/o')[0].split('w/o')[0].split('d/o')[0].strip()"
   ]
  },
  {
   "cell_type": "code",
   "execution_count": 10,
   "metadata": {},
   "outputs": [],
   "source": [
    "def remove_nums(name):\n",
    "    return ''.join([x for x in name if not x.isdigit()])"
   ]
  },
  {
   "cell_type": "code",
   "execution_count": 11,
   "metadata": {},
   "outputs": [],
   "source": [
    "def get_associates_and_name(table):\n",
    "    data = get_data(table)\n",
    "#     print(data)\n",
    "    n = len(data)\n",
    "    curr_name = None\n",
    "    for i in range(n):\n",
    "        if 'name' in data[i]:\n",
    "            curr_name = getnamefromfield(remove_nums(data[i][data[i].index('name')+1]))\n",
    "    c= 0\n",
    "    associates = []\n",
    "    prev = 0\n",
    "    for i in range(n):\n",
    "        if 'associates' in data[i]:\n",
    "            c+=1\n",
    "            name = getnamefromfield(remove_nums(''.join(data[i][data[i].index('associates')+1:])))\n",
    "            associates.append(name)\n",
    "            prev = i\n",
    "    for i in range(prev+1,n):\n",
    "        name = getnamefromfield(remove_nums(''.join(data[i])))\n",
    "        associates.append(name)\n",
    "    if 's.noname&address' in associates:\n",
    "        associates.remove('s.noname&address')\n",
    "    return curr_name,associates\n",
    "\n",
    "    "
   ]
  },
  {
   "cell_type": "code",
   "execution_count": 12,
   "metadata": {},
   "outputs": [],
   "source": [
    "document = Document(path)\n",
    "name,associates = get_associates_and_name(document.tables[2])"
   ]
  },
  {
   "cell_type": "code",
   "execution_count": 13,
   "metadata": {},
   "outputs": [],
   "source": [
    "f = open('new_graph.txt','a')"
   ]
  },
  {
   "cell_type": "code",
   "execution_count": 14,
   "metadata": {},
   "outputs": [],
   "source": [
    "def write_to_file(f,name,associates):\n",
    "    for x in associates:\n",
    "        f.write(str(name)+' '+str(x)+'\\n')"
   ]
  },
  {
   "cell_type": "code",
   "execution_count": 15,
   "metadata": {
    "scrolled": true
   },
   "outputs": [
    {
     "name": "stdout",
     "output_type": "stream",
     "text": [
      "nagendran ['ramesh', 'sigamani@gundusiga', 'siga@ollisiga', 'murugan', 'ramesh@lambaramesh', 'arunkumar', 'bagasaravanan@saravanan', 'jeeva', 'gnanam@gnanavel', 'paramasivam', 'mohanavelan', 'shankar', 'mahesh', 'desappan', 'kuppusamy', 'selvam@soriselvam', 'sakthivel', 'jana', 'siva@kullasiva@sivakumar', 'muthamilan', 'moorthi@nondimoorthi', 'bodysaravanan', 'babloo@prabhu']\n",
      "y\n",
      "None ['casesn-pscr.no./', 'casesp-pscr.no./', 'casesp-pscr.no./', 'casesp-pscr.no./', 'casesp-pscr.no./', 'casesn-pscr.no./', 'casesp-pscr.no./', 'casesr-pscr.no./', 'casesp-pscr.no./', 'casesp-pscr.no./', 'caseshcr.no./', 'casesp-pscr.no./ipcacq', 'casesp-pscr.no./', 'casesp-pscr.no./', 'casesp-pscr.no./', 'casesp-pscr.no./', 'casesb-pscr.no./', 'casesnambiyurpscr.no/(erode)(b)', 'casesmmadavarampscr.no/', 'casespcr.no./', 'casespcr.no./', 'casespcr.no./', 'casesncr.no./', 'casespcr.no./', 'casespcr.no./', 'actxivofdetentionsl.no.bdfgisdetails', 'actxivofdetention/bdfgisv/', 'actxivofdetention/bdfgis/', 'actxivofdetention/bdfgis/', 'actxivofdetention/bdfgis/', 'presentactivitiesconvictedforyearsr.iinp-ps.cr.no./on..byvthaddl.sessionscourt.onappealcovictionwasenhancedtoyearsbythehon’blehighcourtofmadrasandpresentlylodgedinvellorejail.herecentlyinvolvedinthemurderofpalayamduetomotiveingoodshedcollectionbuthegothighcourtstayforincludinghimasaccused-jail']\n",
      "n\n",
      "murugan ['nagendran', 'ramesh', 'sigamani@gundusiga', 'siga@ollisiga', 'citibabu', 'saravanan', 'ramu', 'vijayan@veechivijayan', 'sekar', 'elango']\n",
      "y\n",
      "None ['shankar', 'pandiyan@pannipandyan', 'radhakrishnan', 'ravi@ravikumar', 'pushpakaran', 'gantha', 'sori@mathiyalagan', 'kannan', 'paramasivam', 'mohanavelan', 'ravi@olairavi']\n",
      "o\n",
      "None ['casesp-pscr.no./', 'casesp-pscr.no./ipccon', 'casesp-pscr.no./ipccon', 'casesp-pscr.no./ipccon', 'casesp-pscr.no./ipccon', 'casesp-pscr.no./ipccon', 'casesc-pscr.no./(b)ndpsactcon', 'casesp-pscr.no./(b)ndpsactcon', 'casesp-pscr.no./ipccon', 'casesp-pscr.no./ipccon', 'casesp-pscr.no./ipccon', 'casesp-pscr.no./', 'casesp-pscr.no./ipccon', 'casesk-pscr.no./', 'casesp-pscr.no./', 'casesp-pscr.no./', 'casesp-pscr.no/', 'casesp-pscr.no./', 'casesp-pscr.no./ipcacq', 'casesp-pscr.no./', 'casesp-pscr.no./', 'casess-pscr.no./ipcacq', 'casesp-pscr.no./', 'casesp-pscr.no./', 'casesp-pscr.no./cr.pc@suspiciousdeath@ipcacq', 'casesp-pscr.no./cpactr/w()(a)claactp.t', 'casesp-pscr.no./', 'casesp.pscr.no./', 'casesp-pscr.no./', 'casesp-pscr.no./', 'casesp-pscr.no./cr/w(b)n.d.p.s.actp.t', 'casesp-pscr.no./', 'casesp-pscr.no/pt', 'casesppscr.no./', 'casesbpscr.no./mcpactr/w()(a)claactpt', 'p-cr.no./ipc(dec:palayam)ui', 'actxivofdetentionsl.no.bdfgissvdetails', 'actxivofdetention/()/()/()/bdfgis/()/bdfgis/()/()p//', 'presentactivitiesbrotherofnagendran-ov']\n",
      "n\n",
      "somu@somasundaram ['chera@rajendran', 'sankar', 'karuppubabu', 'karuppuselvam', 'irumbukadaisekar', 'yesu@yesupal', 'gani']\n",
      "y\n",
      "None ['casesp-pscr.no./', 'casesp-pscr.no./', 'casesp-pscr.no./', 'casesk-pscr.no./', 'caseskoraturpscr.no./', 'casesv-pscr.no./', 'casessolavarampscr.no./', 'casessolavarampscr.no./&ipcacq', 'casesb-pscr.no./(b)indianexplosiveamendmentactandof–transferedtocbcidacq', 'casesmaduraitheppakulampscr.no./', 'casesp-pscr.no./(b)', 'casesredhillspscr.no./', 'casescbcidcr.no./(b)', 'actxivofdetentionsl.no.bdfgisdetails', 'actxivofdetention/bdfgisv/', 'actxivofdetention/bdfgis/', 'presentactivitiesconvictedforlifeimprisionmentincbcid.cr.no./(mk.balanex.mlamurdercase)puzhaljail.herecentlygotmarriedwithoneadvocateabi@abinayaon..aftergettingparole-jail']\n",
      "n\n",
      "error\n",
      "None ['actxivofdetention/bdfgisv/', 'actxivofdetention/bdfgis/', 'actxivofdetention/bdfgis/', 'actxivofdetention/bdfgis/', 'actxivofdetention/bdfgis/', 'presentactivitieshemurderedonevellaiumaacloseassociateofappu@krishnasamy.doingsmugglingofrosewoods.herecentlymurderedkathiravanacloseassociateofappuduetopreviousenemityandreleasedonbailon..-ov']\n",
      "n\n",
      "chera@rajendran ['somu@somasundaram', 'irumbukadaisekar', 'ganesan@burmaganesan', 'kameshnan', 'thambi@subramani']\n",
      "y\n",
      "None ['stannesraj@stannesraja', 'prabhu@prabakaran', 'thulasi@thulasidoss', 'kathir@kathiravan']\n",
      "o\n",
      "None ['casesp-pscr.no./', 'casesp-pscr.no./ipcacq', 'casesk-pscr.no./ipcacq', 'casesp-pscr.no./', 'casesh-pscr.no./', 'casesp-pscr.no./(b)ndpsact.acq', 'casesb-pscr.no./©r/wndpsactacq', 'casesb-pscr.no./(b)', 'casesp-pscr.no./', 'casesp-pscr.no./', 'casesp-pscr.no./', 'casesj-pscr.no./', 'casesj-pscr.no./(ii)ipcf.s(pt)', 'casesj-pscr.no./', 'actxivofdetentionsl.no.bdfgisdetails', 'actxivofdetention/bdfgis/', 'actxivofdetention/bdfgis/', 'actxivofdetention/bdfgis/', 'presentactivitiesmemberofdevarperavaiandhisofficeisfunctioningatmadurai.oftenvisitschennai.nowhissonkathirisindulginginrowdisminnorthchennaiarea-ov']\n",
      "n\n",
      "batcha@baskaran ['baskar@chottaibaskar', 'siga@deivasigamani', 'thambaiah', 'murugan', 'doss@ollidoss', 'murugan']\n",
      "y\n",
      "None ['muniyandi', 'yasu', 'sathish', 'krishnan@mayakrishnan', 'guna@gunasekaran', 'muniyandi', 'arunkumar', 'kadhukuthuravi']\n",
      "o\n",
      "None ['casesp../', 'casesp../', 'casesb..sankarnagarp.s./&ipcacq', 'casesp../', 'casesp../(b)ndpsactacq', 'casesn../ipcp.t', 'casesn../', 'casesp../', 'casesp../', 'actxivofdetentionsl.no.bdfgisdetails', 'actxivofdetention/bdfgis/.', 'presentactivitiesdoingrealestatebusiness-present']\n",
      "n\n",
      "nandha@nandhakumar ['ravi@kathukuthiravi', 'batcha@baskar', 'siga@deivasigamani', 'abdulsalam', 'thambiah@kalaiyarasan', 'ganeshan', 'doss@arokiyadoss', 'raja@koluthuraja', 'kasi@kasinathan', 'jageerhusan', 'raj@jorge@arokiyaraj', 'kasi@kasinathan', 'babu@dharmaraj', 'siga@deivasigamani']\n",
      "y\n",
      "None ['casesp..p.s./.ipcacq', 'casesk..p.s./ipc.acq', 'casesk..p.s./', 'casesp..p.s./(b)ndps.act.acq', 'casesp..p.s./', 'casesp..p.s./', 'casesp..p.s./', 'casesp..p.s./', 'casesp..p.s./', 'casesp..p.s./', 'casesp..p.s./', 'casesp..p.s./', 'casesp..p.s./', 'casesp..p.s./', 'casesp..p.s./', 'casesp..p.s./', 'casesp..p.s', 'actxivofdetentionsl.no.bdfgisdetails', 'actxivofdetention/bdfgis/)/bdfgis/)/bdfgis/', 'actxivofdetention./bdfgis/)/bdfgis/', 'presentactivitieshislocationattirupur.oftenvisitingchennai-ov']\n",
      "n\n",
      "ganesan@ganesan. ['ramesh@satchiramesh', 'ismail', 'augastin', 'anbu@karimeduanbu', 'dinesh', 'kadhir@kadhiravan', 'larance@lalalarance', 'gunasekaran', '@olairavi']\n",
      "y\n",
      "None ['casesp../', 'casesp../', 'casesp../', 'casesp../', 'casesp../', 'casesp../', 'casesp-./', 'casesp-./', 'casesp-./', 'casesp-./', 'casesp-./', 'actxivofdetentionsl.no.bdfgisdetails', 'actxivofdetention/bdfgis/', 'presentactivitiesdoingkattapanchayath.(attendingcourt)-present']\n",
      "n\n",
      "mohan@kattanmohan ['anbu@karimeduanbu', 'dinesh', 'kadhir@kadhiravan', 'francis', 'batcha', 'elango', 'muthusamy', '@olairavi', 'vijayadoss']\n",
      "y\n",
      "None ['krishnamoorthi', 'prabhakaran', 'mohamedali', 'elumalai', 'radha@radhakrishnan', 'jayaprakash', 'elango']\n",
      "o\n",
      "None ['casespps/', 'casespps/', 'casespps/', 'casespps/', 'casespps/', 'casespps/', 'casespps/', 'casespps/', 'casespps/', 'casespps/', 'caseskps/(b)', 'casespps/', 'casespps/', 'casesppscr.no./', 'actxivofdetentionsl.no.bdfgisdetails', 'actxivofdetention/bdfgis/', 'actxivofdetention/bdfgis/', '/bdfgissv/', 'presentactivitiespresent']\n",
      "n\n",
      "murthy@uraimurthy(th) ['anandan', 'ganeshan']\n",
      "y\n",
      "None ['casesp./&ipcacq', 'casesp./', 'casesp./', 'cases.v./', 'cases.k./', 'cases.k./', 'cases.e./', 'actxivofdetentionsl.no.bdfgisdetails', 'actxivofdetention/bdfgis/dt...', 'presentactivities(ov)']\n",
      "n\n",
      "sekar@mattusekar ['mahesh@maheshkumar', 'ravi@germanravi', 'krishnan', 'ravi@kathukuthuravi']\n",
      "y\n",
      "None ['casesf-pscr.no./', 'casesk-pscr.no./', 'casesn-pscr.no./', 'casesk-pscr.no.(b)r/w', 'casesm-pscr.no./', 'casesk-pscr.no./', 'casesk-pscr.no./', 'casesk-pscr.no./', 'casesd-pscr.no./', 'casesj-pscr.no./', 'casesr-pscr.no./', 'actxivofdetentionsl.no.bdfgisdetails', 'actxivofdetention/bdfgis/', 'presentactivitiessmugglerofrosewoodanddoingrealestatebusiness.historysheetclosedasperhighcourtorder-present']\n",
      "n\n",
      "mukesh@ramesh@suresh ['sathish', 'vijayakumar', 'ravi', 'venkatesan']\n",
      "y\n",
      "None ['casesfp.s.cr.no./ipcpt', 'caseskcr.no./', 'caseskp.s.cr.no./', 'caseskp.s.cr.no./ipcacq', 'casesfps.cr.no/ipcpt', 'caseskp.scr.no/ipcacq', 'caseskp.s.cr.no./ipcpt', 'casespp.s.cr.no./', 'caseskp.s.cr.no./', 'caseskp.s.cr./ipcpt', 'caseskps.cr.no./', 'casespp.s.cr.no./ipcacq', 'casesvpscr.no./r/w()indianarmsactpt', 'casesvpscr.no./ipclui', 'casesp-pscr.no./', 'cases.p-pscr.no./', 'casesn..p.s.cr.no./', 'actxivofdetentionsl.no.bdfgisdetails', 'actxivofdetention/bdfgis/dt.--', 'presentactivitiesdoingillegalrosewoodbusiness-ov']\n"
     ]
    },
    {
     "name": "stdout",
     "output_type": "stream",
     "text": [
      "n\n",
      "sampath ['somu@somasundaram', 'chera@rajendran', 'tamilselvan', 'thirumaran', 'mohammedrafique', 'nagaraj', 'sorriramesh']\n",
      "y\n",
      "None ['casesg-pscr.no./', 'casesb-pscr.no./ipcpt', 'casesh-pscr.no./ipcacq', 'casese-pscr.no./manmissing@', 'actxivofdetentionsl.no.bdfgisdetails', 'actxivofdetentionnil', 'presentactivitiesconvictedforlifesentenceinm.k.balanex.mla’smurdercase.-puzhaljail']\n",
      "n\n",
      "baskar@elumbubaskar ['sundramoorthy@elisundramoorthy', 'janagiraman', 'prakash', 'kanagu@kanagaraj', 'ganam@ganasekar', 'balaji@yamahabalaji', 'unni@kelap']\n",
      "y\n",
      "None ['casesppscr.no./', 'casesvpscr.no./', 'caseskpscr.no./ipc.acq', 'casesppscr.no./', 'caseskpscr.no./ipc.pt', 'casesmpscr.no./ipc.con', 'casesgpscr.no./', 'casesgpscr.no./ipcpt', 'casesppscr.no./', 'casesjpscr.no./ipc.pt', 'casesppscr.no./', 'casesppscr.no./', 'casesppscr.no./', 'casesppscr.no./', 'casesppscr.no./', 'casesrpscr.no./ipc.pt', 'caseskpscr.no./', 'caseskpscr.no./', 'caseskpscr.no./', 'caseskpscr.no./', 'caseskpscr.no./', 'caseskpscr.no./ipcpt', 'caseskpscr.no./', 'casesrvalasaravakkampscr.no./', 'kayanavaramcr.no./', 'actxivofdetentionsl.no.bdfgisdetails', 'actxivofdetention/bdfgis/dt...)/bdfgis/)/)/bdfgis/dt...)/bdfgis/dt...)/bdfgis/dt...()/bdfgis/dt..()/dated..', 'presentactivitiescrimeaccusedanddevelopedrowdism.hewasarrestedon..andreleasedonbail-ov']\n",
      "n\n",
      "suresh@arocotsuresh ['dakshinamoorthiy', 'raja@ceasingraja@thambaramraja', 'siga@navaneethakrishnan', 'anjalai', 'sugu@sugumar', 'vairam@vairamuthu@kundrathurvairam', 'narayanan@bambanarayanan', 'velu@velmurugan', 'sathish', 'raju', 'rajesh@prakash', 'nagaraj', 'jaya@jayakumar', 'kubendran', 'udaya@udayakumar', 'jayaraman', 'vinoth@vinothkumar', 'magi@mahendran', 'ezhilarasu', 'saravanan', 'sankar@muttaisankar', 'thangamani', 'adhi@adhikesavan', 'viji@vijayakumar', '.durai', '.kutti@kuttiyappan@sura']\n",
      "y\n",
      "None ['casesvijaya.vadanorthtownpscr.no./u/s', 'casesj-pscr.no./ipcacq', 'casesp-pscr.no./u/s', 'casesp-pscr.no./u/s', 'casesp-pscr.no./u/s', 'casesp-pscr.no./u/s', 'casess.selaiyurps.cr.no./u/s', 'casest-poonamalleepscr.no./u/s', 'p.cr.no./(b)', 'p.cr.no./(b)', 'p.cr.no./(b)', 'p-pscr.no./', 't-ambattur.p.scr.no/', 'tthirumullaivoyalpscr.no./', 'tambatturpscr.no./', 'tambatturpscr.no./', 'actxivofdetentionsl.no.bdfgisdetails', 'actxivofdetention./dt...', 'actxivofdetention./dt...', './dt...', 'presentactivitiesduetopreviousenmityhemurderedonechinnakesavuluandbhagatsingh(advocate)atpoonamallee.releasedonbailon..–ov']\n",
      "n\n",
      "saravanan@thensaravanan ['.thennarsu', '.p.t.ramesh@ramesh', '.sakthivel@vadakaraisakthi()', '.kadhukuthuravi', '.mani@thamizhmani', '.kakkuveeran()', '.raja@appalamraja', '.gurubalaji']\n",
      "y\n",
      "None ['cases.k-pscr.no./', 'cases.g-pscr.no./', 'cases.k-pscr.no./', 'cases.p-pscr.no./', 'cases.p-pscr.no./', 'cases.k-pscr.no./', 'cases.p-pscr.no./', 'cases.d-pscr.no./', 'cases.p-pscr.no./', 'cases.j-pscr.no./', 'cases.p-pscr.no./', 'cases.p-pscr.no./', 'cases.p-pscr.no./', 'cases.p-pscr.no./', 'cases.m-pscr.no./', 'cases.rpscr.no./', '.tambatturpscr.no./', 'actxivofdetentionsl.no.bdfgisdetails', 'actxivofdetention/bdfgissv/-date:..', 'actxivofdetention/bdgissv/', '/bdfgissv/dated..', 'presentactivitiesheisanotoriousrowdyandhiredkiller.hewashiredbykadhukuthuravitomurderkathiravan.hewasarrestedbyambathurpoliceandlodgedinvelloreprisonon...hereleasedonbailon..-ov']\n",
      "n\n",
      "radha@radhakrishnan ['.alaudin()', '.madhan@madhankumar', '.madhan@pallumadhan', '.charles', '.batchi@baskaran', '.umar', '.prakash@appalamprkaseh', '.konanatarajan', '.hari@mangalorehari', '.manikandanoferode']\n",
      "y\n",
      "None ['cases.k-pscrno/ipccon', 'cases.k-pscrno/&ipc(deceased–mohan@boommohan)acq', 'cases.k-pscrno/&ipcacq', 'cases.k-pscrno/&(ii)ipcacq', 'cases.k-pscrno/', 'cases.t-pscrno/', 'cases.t-pscr.no./', 'cases.k-pscrno/', 'cases.k-pscrno/', 'cases.k-pscrno/', 'cases.k-pscr.no./r/w()(a)claact', 'cases.k-pscr.no./cr.pcacq', 'cases.k-pscr.no./', 'cases.h-pscr.no./', 'cases.k-pscr.no./&(i)ipcpt', 'cases.k-pscr.no./&(ii)ipcpt', 'cases.t-pscr.no./', 'cases.t-pscr.no./&ipcui', 'cases.f-pscr.no./', 'cases.bagayampscr.no./(b)', 'actxivofdetentionsl.no.bdfgisdetails', 'actxivofdetention.yearof', 'actxivofdetention.yearof', 'actxivofdetention./bdfgissv/', 'actxivofdetention./bdfgissv/', 'presentactivitiesheisanotoriousrowdyandhiredkiller.oncehewasacloseassociateofrowdybinu.nowhehimselfbecameagangleader.herecentlymurderedoneranjaninretaliationtohisfriendanishmurder.whileinprisonheconspiredwithhisassociatesoutsideandmurderedonekenett.healsoattemptedthelifeofgangsterdhakshinamurthyoftbchatramon..alongwithnagoormeeran&kallaraisathishinsidevelloreprisonandheshiftedtopuzhalprisonnow-jail']\n",
      "n\n",
      "error\n",
      "None ['caseskps/', 'caseskps/', 'caseskps/', 'caseskps/cpactcon', 'caseskps/', 'caseskps/cpactcon', 'caseskps/', 'caseskps/', 'caseskps/', 'caseskps/', 'caseskps/()(a)tnppdact.acq', 'caseskps/', 'caseskps/', 'caseskps/', 'caseskps/', 'caseskps/', 'caseskps/', 'caseskps/', 'caseskps/', 'actxivofdetentionsl.no.bdfgisdetails', 'actxivofdetention/bdfgis/', 'actxivofdetention/bdfgis/', '/bdfgis/', 'presentactivitiesconvictedforlifesentenceink']\n",
      "n\n",
      "parthiban ['.a.c.baskar', 'suresh@kothamallisuresh', 'premkumar@prem', 'vinothkumar']\n",
      "y\n",
      "None ['casestpscr.no./', 'casestpscr.no./ipcacq.', 'casest-pscr.no./ipcpt', 'casesb-pscr.no./(b)ipcacq.', 'casesthiruvalluvartownpscr.no./ipc(saravanan)pt', 'casesthiruvalluvartownpscr.no./ipcpt', 'casest-pscr.no./', 'casest-pscr.no./', 'casesthiruvalluvartownpscr.no./', 'casest-pscr.no./ipcpt-prc/', 'casesmappedupscr.no./', 'casest-pscr.no./', 'casest-pscr.no./', 'casest-pscr.no./', 'casest-pscr.no./', 'casest-rpscr.no./', 'casest-pscr.no./', 'casest-pscr.no./', 'casest-pscr.no/', 'casest-pscr.no/', 'casest-pscr.no./', 'casest-pscr.no./(b)', 'casest-pscr.no./', 'casest-pscr.no./', 'actxivofdetentionsl.no.bdfgisdetails', 'actxivofdetentionbdfgisv//()bdfgisv//()bdfgisv//dated..()/dated..()bdfgissv//dated..', 'presentactivitieshewaselectedasthwardmemberinthirunindravurpanchayathinlocalbodyelection.herecentlymurderedoneganapathy@eladuetomotiveinhisfriendsathishlovematterandwaslodgedinjail.']\n",
      "n\n",
      "stalinsamuel@stalin ['robert', 'vinyagamurthy', 'rajan', 'mathi@mathisoothanan', 'arunagiri', 'ramesh@vellairamesh', 'mahesh@petermahesh']\n",
      "y\n",
      "None ['casestkoratturpscr.no./', 'casestkoratturpscr.no./', 'casestkoratturpscr.no./', 'casestkoratturpscr.no./ipcpt', 'casestkoratturpscr.no./', 'casesthiruvalloretalukpscr.no./', 'casesvpscr.no../(transfertot-koratturpsandattachedto/)', 'casestpscr.no./', 'casestpscr.no./ipcui', 'actxivofdetentionsl.no.bdfgisdetails', 'actxivofdetention/bdfgis/dt..', 'presentactivitiesdoingwatercanbusinessandrealestate.convicteddoublelifeinm.r.ravimurdercase.nowreleasedaspersupremecourtappeal.(attendingcourt)-present']\n",
      "n\n",
      "vinayagamurthy@vinayagam ['robert', 'rajan', 'mathi@mathisoothanan', 'arunagiri', 'stalin@stalinsamuel']\n",
      "y\n",
      "None ['casestkoratturpscr.no./ipcacq', 'casestkoratturpscr.no./ipcacq', 'casestkoratturpscr.no./', 'casestkoratturpscr.no./', 'casestkoratturpscr.no./ipcpt', 'casestkoratturpscr.no./', 'casestkoratturpscr.no./(b)', 'casestkoratturpscr.no./(b)', 'casestambatturestatepscr.no./', 'actxivofdetentionsl.no.bdfgisdetails', 'actxivofdetention.bdfgisvv/', 'presentactivitiesdoingrealestatebusiness.convicteddoublelifeinm.r.ravimurdercase.nowreleasedaspersupremecourtappeal.(attendingcourt)-present']\n",
      "n\n",
      "vairam@vairamuthu ['ravikumar@dogravi()', 'kakkuveeran()', 'selvakumar@kokkeikumar', 'ganesan@mattumoolaiganesan', 'hari@harikrishnan()', 'ghousebhasha()', 'settu@josephwilfred', 'vinodh@vinodhkumar()', 'kalaimani', 'samson', 'kanagu@kanagaraj', 'casessl.no.station&crimenumbersectionoflawdisposal', 'casest-ps/', 'casest-ps/', 'casest-ps/', 'casest-ps/', 'casest-ps/', 'casest-ps/cr.p.c.pt', 'casest-ps/cr.p.c.pt', 'casest-ps/', 'casest-ps/(b)', 'casessriperumbudurps/', 'casestsrmcpscr.no./(b)', 'casestpscr.no./', 'casest-mangadupscr.no./r/w(ii)ipcui', 'actxivofdetentionsl.no.bdfgissvdetails', 'actxivofdetentionintheyear', 'actxivofdetention/dated..', 'actxivofdetention/dated..()/dated..', 'presentactivitieshemurderedmadhanintheyear.whileinjailheplannedandmurderedppgkumaranofsriperumbudurwithhisassociates.hewasreleasedonbailfromsalemjailon..-ov']\n",
      "y\n",
      "balaji@kakkathopebalaji ['viji@fernando', 'periyasamy@kuttiyapan', 'gopi', 'baskar', 'amar@ilayamani', 'manigandan', 'anbu', 'bokkairavi']\n"
     ]
    },
    {
     "name": "stdout",
     "output_type": "stream",
     "text": [
      "y\n",
      "None ['casesnps', 'casesnps', 'casesnpscrno./u/s.ipcacq', 'casesnpscrno./u/s', 'casesnpscr.no./u/s.', 'casesnpscr.no./u/s.', 'casesnpscr.no./u/s.clactacq', 'casesnpscr.no./u/s.', 'casesnpscr.no./u/s.', 'casesnpscrno./u/s.', 'casesnpscr.no./u/s.', 'casesnpscr.no./u/s.', 'casesnpscr.no./u/s.', 'casesnpscr.no./u/s.', 'casesnpscr.no./u/s.', 'casesnpscr.no./u/s.', 'casesnpscr.no./u/s.r/wipcacq', 'casesnpscr.no./u/s.', 'casesnpscr.no./u/s.', 'casesnpscr.no./u/s.', 'casesnpscr.no./u/s.', 'casescpscr.no./u/s.', 'casescpscr.no./u/s.r/w.', 'casescpscr.no./u/s.', 'casescpscr.no./u/s.', 'casesb-ps', 'casesb-ps', 'casesb-ps', 'casesgpscr.no./u/s.', 'casesnpscr.no./u/s', 'casescpscr.no./u/s.', 'casescpscr.no./u/s.', 'casesnpscr.no./u/s.', 'caseshpscr.no./u/s.', 'caseshpscr.no./u/s.', 'caseshpscr.no./u/s.', 'casesp.ps.cr.no./u/s.', 'caseskeeranoorpscr.no./u/s.', 'casesbagaiyampscr.no./u/s.', 'casespmkbnagarpscr.no./&ipcui', 'casesnmuthuyalpetp.s.cr.no/', 'casesppulianthopepscr.no./', 'h-pscr.no./', 'npscr.no./', 'actxivofdetentionsl.no.bdfgissvdetails', 'actxivofdetention/bdfgis/()/bdfgis/()/bdfgis/()/bdfgis/()/bdfgis/()/bdfgis/()bdfgis/()/bdfgissv/()/bdfgisvv/', 'presentactivitieshemurderedonenatarajanofpallamintheyear']\n",
      "n\n",
      "govindaraj ['elumalai', 'dhanraj', 'vijayakumar', 'mackey@marchey', 'johnhenry', 'jayakumar', 'prakash@bondaprakash', 'babu@ammapaul']\n",
      "y\n",
      "None ['suresh', 'ganga', 'jaisingh@jhonjaising', 'doss@arokkiyadoss', 'prabha@prabakaran', 'ramachandran', 'doss', 'viji@vijayakumar', 'shankar', 'jayaprakash@jayapaul', 'akbar', 'ragu@ragupathi', 'babu', 'selvan', 'thenveeran', 'kiji@krishnamoorthi', 'muniyandi@balasubramani', 'raja@meenkararaja', 'dhanam@dhanasekaran', 'saravanan', 'jayam@munusamy', 'raja@chottakariraji', 'narayanan@idiyappamnarayanan', 'yuvaraj', 'ravi@thendralravi@madhew', 'gajendran', 'ravikumar@sugumaran', 'dhanapal', 'jamu', 'kannan', 'saravanan', 'balu@balsubramaniyan', 'alhauddin', 'venkat@venkateshan', 'maha@mahalingam', 'ravi@ravikumar', 'ashokkumar', 'mani@subramani', 'bharath', 'ashokkumar', 'venkatesh', 'munusamy', 'giri', 'lourd', 'jhon', 'kamalakannan', 'kumarvel', 'jayakumar', 'rajesh', 'dhanasekar', 'janarthanan', 'anantharaj']\n",
      "n\n",
      "None ['casesh-pscr.no./', 'casesh-pscr.no./', 'casesh-pscr.no./(ii)ipcacq', 'casesh-pscr.no./', 'casesh-pscr.no./@ipcacq', 'casesh-pscr.no./', 'casesh-pscr.no./', 'casesh-pscr.no./', 'casesh-pscr.no./', 'casesh-pscr.no./', 'casesh-pscr.no./', 'casesh-pscr.no./', 'casesh-pscr.no./', 'casesh-pscr.no./', 'casesh-pscr.no./', 'casesh-pscr.no./', 'casesh-pscr.no./', 'casesh-pscr.no./', 'caseshcr.no/', 'caseshcr.no./', 'caseshpscr.no./', 'actxivofdetentionsl.no.bdfgisdetails', 'actxivofdetention.()/bdfgis/()/bdfgis/()/bdfgis/()/bdfgis/()/bdfgis/', 'actxivofdetention.()/bdfgis/()/bdfgis/', 'presentactivities(attendingcourt)-present']\n",
      "n\n",
      "ravi@kalvetturavi@ravisankar ['prasena@presenakumar', 'senthil@senthilnathan', 'rugmangathan', 'jeeva', 'appu@anbalagan', 'prabhu', 'premkumar', 'durai', 'rajesh', 'mopu@mohanraj', 'nagarajan', '.kandan@thiruvanmaiyurkandan', '.ravi@c.g.colonyravi']\n",
      "y\n",
      "None ['casesepscr.no./u/s(b)', 'caseshcr.no./u/s(b)', 'caseshcr.no./u/s', 'caseshcr.no./u/s', 'casesh-cr.no./u/s', 'casesh-cr.no./u/s', 'casesh-cr.no./u/s', 'casesncr.no./u/s', 'casesbpscr.no./u/s', 'casesh-cr.no./', 'caseshcr.no/u/s', 'caseshcr.no./u/s', 'caseshcr.no./u/s', 'casesncr.no./u/s', 'ncr.no/', 'epscr.no./', 'actxivofdetentionsl.no.bdfgisdetails', 'actxivofdetention/bdfgis/dt...', 'actxivofdetention/bdfgis/dt...', 'actxivofdetention/bdfgis/dt....', '/bdfgissv/dated..', '/bdfgisv/dated..', 'presentactivitieshemurderednithyanandamintheyearinretaliationtohisfriendmurdervenus.heagainmurderedonefrancisofkasimeduintheyearwhoalsooneofthecloseassociateofhim']\n",
      "n\n",
      "saravanan@thiruttusaravananm-a ['saravanan@saravanakumar', 'dinesh@deepansakravathi', 'sudhakar', 'naguraniba@karuppunagur', 'sriram', 'mani@subramani', 'srini@srinivasan', 'sankar@typesankar', 'sappaimunusamy@t.smunusamy', 'nagaraj', 'deepan', 'suresh@gatesuresh']\n",
      "y\n",
      "None ['cases.h-pscr.no./&ipcpt', 'cases.h-pscr.no./ipcpt', 'cases.h-pscr.no./ipcpt', 'cases.h-pscr.no./ipcpt', 'cases.h-pscr.no./', 'cases.m-pscr.no./ipcpt', 'cases.h-pscr.no./&ipcpt', 'cases.m-pscr.no./&ipcpt', 'cases.m-pscr.no./&ipcpt', 'cases.m-pscr.no./', 'cases.h-pscr.no./', 'cases.h-pscr.no./', 'cases.h-pscr.no./', 'cases.h-pscr.no./', 'cases.m-pscr.no./(b)ndpsact', 'cases.h-pscr.no./&(ii)ipcui', 'cases.b-pscr.no./ipcui', 'cases.h-pscr.no./', 'cases.h-pscr.no./', 'cases.h-pscr.no./', 'cases.h-pscr.no./(b)ndpsactpt', 'cases.h-pscr.no./', 'cases.h-pscr.no./', 'cases.h-pscr.no./', 'cases.h-pscr.no./', 'cases.hpscr.no./', 'actxivofdetentionsl.no.bdfgissvdetails', 'actxivofdetention./', 'actxivofdetention./', 'presentactivitiesheisacrimeoffenderandraisedhisactivitiestorowdism.herecentlymurderedoneoilrajaofrknagardemandingrowdymamool.herecentlyarrestedon..andlodgedinprison-jail']\n",
      "n\n",
      "appalam@appalaprakash ['.balaji@kakkathopebalaji', '.ravichandran', '.prakash@ceithappan', '.arun@arunkumar', '.anand@tlpananad', '.bhaskar', '.saranraj', '.karthick', '.rajan']\n",
      "y\n",
      "None ['cases.kelambakkampscr.no./u/s(b)', 'cases.h-pscr.no./', 'cases.h-pscr.no./', 'cases.m-pscr.no./', 'cases.cholavarampscr.no/ipcpt', 'cases.m-pscr.no./', 'cases.h-pscr.no./', 'cases.h-pscr.no./', 'actxivofdetentionsl.no.bdfgissvdetails', 'actxivofdetention./bdfgissv/', 'actxivofdetention./bdfgissv/-date:..', 'presentactivitieshewasoneofthecloseassociateofkakkathoppubalaji&kalvetturavi.nowhebecamehimselfasagangster.hemurderedonevenkataforthoppuvinayagamandlodgedinpuzhaljail.hereleasedonbailon..-ov']\n",
      "n\n",
      "selvam@malaikanselvam ['viji@vijayakumar', 'siva@sivakumar', 'powderravi', 'sakthivel', 'shankar', 'lingesan', 'janagan', 'krishnan', 'heightsiva']\n",
      "y\n",
      "None ['casesn-pscr.no./', 'casesn-pscr.no./', 'casesn-pscr.no./', 'casesh-pscr.no./', 'casesn-pscr.no./', 'casesn-pscr.no./', 'casesn-pscr.no./', 'casesn-pscr.no./ipcacq', 'casesn-pscr.no./(b)ndpsactacq', 'casesf-pscr.no./', 'casesn-pscr.no./', 'casesn-pscr.no./', 'casesn-pscr.no./', 'casesn-pscr.no./', 'casesh-pscr.no./', 'casesn-pscr.no./', 'casesmadhavaramcr.no./', 'casesn-pscr.no./©r/w(b)ndpsactui', 'casesn-pscr.no./', 'casesn-pscr.no./', 'caseshcr.no/', 'casesmadhavaramcr.no./', 'actxivofdetentionsl.no.bdfgisdetails', 'actxivofdetention/bdfgis/', 'actxivofdetention/nsa/', 'actxivofdetention/bdfgis/', 'presentactivitiespresentlynotactiveandmayrise-uphisactivitesatanytime-present']\n",
      "n\n",
      "dhanasekaran ['odi@saravanan', 'david', 'ayyanar', 'babu', 'ramu', 'hari@hariharan', 'siva', 'kumaresan']\n",
      "y\n",
      "None ['mariadoss', 'rajesh', 'arunkumar', 'gopi', 'thiru@mahendiran', 'vinayagam', 'raja@rajkumar', 'm.santhosh@santhoshkumar', 'chinni@venkatraman', 'senthilkumar', 'sathya', 'mukesh', 'tamilselvan', 'janakaraj', 'appunu@vasanthkumar', 'suresh', 'sundarapandi', 'rajapandi', 'lakshmanababu@sishya', 'sena@senathipathy', 'suresh@ariyalursuresh', 'dinesh@dineshkumar', 'nagendiran', 'ravichandran', 'deepanchakravarthy', 'kutty@krishnaraj', 'kullamani@manivannan', 'suresh@singaporesuresh', 'ramu', 'manimaran']\n",
      "o\n",
      "None ['casesmennoreps/', 'casesmredhillsps/', 'casesmennoreps/', 'casesmennoreps/crpcacq', 'casesmennoreps/', 'casesmennoreps/', 'casesmennoreps/', 'casesmennoreps/', 'casesmennoreps/crpcr/w()(a)claact.acq', 'casesmennore/', 'casesmsathangadups/', 'casesmennoreps/', 'casesswamimalaips(kumbakonam)/ipcpt', 'casesmredhills/', 'casesmredhills/', 'casesmennore/', 'casescholavaram/', 'casesmmanalinewtown/', 'casesmennore/', 'casesmennore/', 'casessriperumputhurcr.no./ipcui', 'casesp.basinbridgepscr.no./', 'casespbasinbridgepscr.no./', 'casesperiyapalayampscr.no./', 'casesmennorepscr.no/.', 'casesh-newashermenpetpscr.no/', 'casesh-newwashermenpetpscr.no/', 'casesmredhillspscr.no./', 'casesmennorepscr.no./', 'actxivofdetentionsl.no.bdfgisdetails', 'actxivofdetention/bdfgissvv/', 'actxivofdetention/bdfgissvv/', 'actxivofdetention/bdfgissvv/', 'actxivofdetention/bdfgissv/', 'presentactivitiesmamoolcollectionfromcontainerlorrycontract.hejoinedallindiaforwardblockpoliticalparty-jail']\n",
      "n\n",
      "thambiraja@rajaprince@goldwin ['shanthanaraj', 'angusamy', 'doshi@doshibaanand', 'bhaskaran', 'samuelnadar', 'shyamsundar', 'johankenady']\n"
     ]
    },
    {
     "name": "stdout",
     "output_type": "stream",
     "text": [
      "y\n",
      "None ['hemanthkumarsingh', 'dhanasingh@srinivasan', 'murugan', 'mohan@mohandoss', 'vijayadoss', 'kalidoss', 'illamallai', 'krishnamoorthy@amavasaibrotherofillamallai', 'dheysingh', 'prabakaran', 'md.ali', 'mohan', 'elumalai', 'kotty@kottieswaran', 'radha@radhakrishnan', 'etti@ettiyappan', 'elango', 'jayaprakashm/no.', 'jenith', 'rajesh@murugan', 'luckyraj', 'milten', 'siva@sivashanmugam', 'devasagayam', 'savithyaquincee', 'd.lilly']\n",
      "o\n",
      "None ['casesbtuticorinnorthpscr.no./ipcacq', 'casesfpscr.no./', 'casesfpscr.no./', 'caseskpscr.no./', 'casesjpscr.no./ipcui', 'casesfpscr.no./', 'casesfpscr.no./', 'casesppscr.no./', 'casestuticorinmorappanadupscr.no./ipcui', 'caseschennaiccbcr.no./()(b)(a)r/w&ofarmsactr/wipcpt', 'casestpscr.no./(a)armsactand&cr.p.c.ui', 'casesthudiyalorepscr.no./', 'casesvpscr.no./', 'caseschennaiccbcr.no./(a)', 'caseskovaicitysarawanapattipscr.no./', 'casesppscr.no./', 'casesm-kovilpalayampscr.no./', 'casesmaduraikoodalpudurps.cr.no./.', 'casesmkovipalayampscr.no./', 'casesbnorthtuticorinpscr.no./(b)', 'casesmaduraikarimedupscr.no./', 'casesjvelacherypscr.no./(-a)armsactand(a)ipcui', 'casesmaduraikarimedupscr.no./', 'casesemaduraiannanagarpscr.no./', 'actxivofdetentionsl.no.bdfgisdetails', 'actxivofdetention/bdfgis/)/bdfgis/)/bdfgisv/dt....', 'presentactivitieshewasreleasedonbailon...(--f.p.s.warrantpending)-ov']\n",
      "n\n",
      "marketmurali/ ['saravanan@marketsaravanan', 'kannan@marketkannan', 'rajan@raja', 'anthony@periyaanthony', 'thopulankumar', 'nagaraj', 'kumar@karuppukumar', 'ponnurangam']\n",
      "y\n",
      "None ['lakshmanna', 'gopi@tholgopi', 'kumar', 'vinayagam', 'raja', 'rajan@rajendran', 'kumar', 'manoharan@kundhimanoharan', 'mahendran', 'bharthasarathi', 'ismailboy', 'sivansiva', 'ravi@kullaravi', 'murugeshan', 'krishnan@nodikrishnan', 'balaji', 'kumar', 'sridhar', 'bakiyaraj', 'sarathi@parthasarathi', 'babu@neppubabu', 'eli@nattu@krishnamoorthino.', 'viji', 'sivakumar', 'selvamani', 'senthilkumar', 'vinayagam', 'raja', 'lakshman', 'gopi@thol@isupputhol', 'gopi', 'sekar', 'purusothaman', 'yuvarajm./a', 'nandhakumar', 'kavikumar', 'arunkumar', 'kumar@ratinakumar', 'saravanan@thikkuvaisaravanan', 'elango', 'emburose', 'ranganathan']\n",
      "o\n",
      "None ['casesd.pscr.no./', 'casesdpscr.no./()atnpactcon', 'casesdpscr.no./()atnpactcon', 'casesdpscr.no./', 'casesd.pscr.no./', 'casesdpscr.no./', 'casesdpscr.no./', 'casesdpscr.no./', 'casesdpscr.no./', 'casesr-pscr.no./', 'casesdpscr.no./', 'casesf-pscr.no./', 'caseskpscr.no./', 'caseskpscr.no./', 'caseskpscr.no./', 'casesdpscr.no./', 'casesepscr.no./', 'casesdpscr.no./cr.p.c(e&g)', 'casesdpscr.no./', 'casesdpscr.no./', 'casesdpscr.no./', 'casesdpscr.no./', 'casesdpscr.no./(c)r/w&ndpsactandofarmsactand', 'casesd-pscr.no/cr.p.c(e&f)', 'casesd-pscr.no./cr.p.c(e&f)', 'casesd-pscr.no./cr.p.c(e&g)', 'casesd-pscr.no./cr.p.c', 'casesd-pscr.no./cr.p.c', 'actxivofdetentionsl.no.bdfgisdetails', 'actxivofdetention/bdfgis/', 'actxivofdetention/nsa/', 'actxivofdetention/bdfgis/..', 'actxivofdetention/bdfgis/dt...', '/bdfgissv/dt...', 'presentactivitiesdoingcabletv']\n",
      "n\n",
      "kumar@thoppulankumar ['senthilkumar@senthil', 'vinayagam', 'lakshmanan', 'raja', 'sridhar', 'gopi@isuputholegopi', 'nagaraj', 'senthil@senthilkumar', 'lakshmanan']\n",
      "y\n",
      "None ['manibalan@manipal', 'kumar@karuppukumar', 'ponnurangam', 'sambantham', 'kumar', 'vinayagam', 'raja', 'rajan@rajendran', 'kumar', 'manoharan@kundhimanoharan', 'mahendran', 'bharthasarathi', 'ismailboy', 'sivansiva', 'murali@marketmurali', 'anthoni@periyaanthoni', 'saravanan@marketsaravanan', 'kannan@marketkannan', 'staline', 'ganesan', 'vinayagam', 'jagen', 'raja', 'gopi', 'senthil@senthilkumar', 'gopi@tholgopi', 'lashmanan', 'varadharajan', 'rattinakumar@ravikumar', 'jayakumar', 'nehru@nehrudoss', 'subura@subramani']\n",
      "o\n",
      "None ['casesd.pscr.no./()atnpactcon', 'casesd.pscr.no./', 'casesd.pscr.no./', 'casesd.pscr.no./', 'casesd.pscr.no./', 'casesd.pscr.no./', 'casesd.pscr.no./', 'casesd.pscr.no./', 'casesd.pscr.no./', 'casesd.pscr.no./', 'casesd.pscr.no./cr.p.cr/w()aclaactacq', 'casesd.pscr.no./', 'casesd.pscr.no./', 'casesd.pscr.no./', 'casesd.pscr.no./', 'casesd.pscr.no./', 'casesd.pscr.no./', 'casesd.pscr.no./', 'casesd.pscr.no./', 'casesd.pscr.no./', 'casesd.pscr.no./', 'casesd.pscr.no./', 'casesd.pscr.no./', 'casesd.pscr.no./', 'casesd.pscr.no./', 'casesd.pscr.no./', 'casesd.pscr.no./', 'casesd.pscr.no./', 'casesd.pscr.no./', 'casesccbxcr.no./', 'casesd.pscr.no./cpactcon', 'casesd.pscr.no./', 'casesd.pscr.no./mcpactcon', 'casesd.pscr.no./mcpactcon', 'casesd.pscr.no./cr.p.ccon', 'casesdpscr.no./(b)', 'dpscr.no./(b)', 'actxivofdetentionsl.no.bdfgisdetails', 'actxivofdetention/bdfgis/dt...', 'actxivofdetention/bdfgis/dt...', 'actxivofdetention/nsa/dt...', 'actxivofdetention/bdfgis/dt...', 'actxivofdetention/bdfgis/dt...', 'actxivofdetention/bdfgis/dt...', 'presentactivitiespresent.heisdeputysecretaryofthdivisionwarddmkpartyanddoingcablet.v.businessinthenameofc.m.sateliteatborderthottamarea.hearrestedon..andreleasedonbailon..-ov']\n",
      "n\n",
      "binu ['.dakshna', 'nasar', 'dr.anbu', '.saravanan', '.ramesh', 'pandian', '.venkatesan.', '.muthu', '.kamal@kamalakasan', '.alavudeen', '.regan', '.karuna@karunakaran', '.hari@bangalorehari', '.sekar@chandrasekar', '.jai@jayakumar', '.babu', '.raju@yuvaraj', '.sivaraj', '.dayalan', '.nagaraju', '.kumaravelu', '.prem', '.kumar@thadikumar', '.kanagaraj', '.ganesh@josap', '.saravanan', '.mani@manikandan', '.kannan@chinnakannan', '.sekmd.', '.mrs.sobha', '.mahendrakumar', '.vignesh()', '.manikandan()', '.sarathkumar()', '.harisekar()', '.chitrarajan()', '.raghava@raghavendran()', '.kasim()', '.abdulrazack()', '.kannan()', '.mari()', '.selvam()']\n",
      "y\n",
      "None ['casesf-pscr.no./', 'casesk-ps.cr.no./', 'casesf-ps.cr.no./', 'casesf-pscr.no./', 'casesf-.ps.cr.no/', 'casesf-pscr.no./', 'casesf-pscr.no./', 'casesf-pscr.no./', 'casesf-pscr.no./', 'casest-poonamallepscr.no./', 'casesf-pscr.no./', 'casesf-pscr.no./.', 'casest-poonamaleepscr.no./', 'casesr-vadapalanipscr.no./', 'actxivofdetentionsl.no.bdfgisdetails', 'actxivofdetention/bdfgis/', 'actxivofdetention/bdfgis/', 'actxivofdetention/bdfgis/', 'presentactivitiesinretaliationtohisfriendanishmurder']\n",
      "n\n",
      "thangaiah ['ranjan', 'sambath', 'sathish', 'markantony', 'senthilkumar', 'mohan', 'raji']\n",
      "y\n",
      "None ['krishnamoorthi', 'sooriyanathan', 'kannan@rajeshkanna', 'sampath', 'dhachina@dhachinamoorthi', 'vivekandan', 'rajesh', 'thirunavukarasu', 'premnath', 'karpakam', 'samuvel', 'annadurai@durai', 'senthilkumar', 'kannan', 'balan@kullabalan@kullabalu@balakrishnan', 'kumar@britanyakumar', 'ramesh', 'ravi', 'murugan', 'guna@gunasekaran', 'pandiyan', 'ramu', 'saravana@kumar', 'senthil@senthilkumar', 'mottai@venkateshan']\n",
      "o\n",
      "dakshinamoorthy ['s.noname&addressrowdism', 'p.muruga@theechattimurugan', 'yuvaraj', 'yuvaraj', 'yuvaraj', 'yuvaraj', 'sooriyanathan', 'kannan@rajeshkanna', 'thangaiah', 'vivekandan', 'rajesh', 'thirunavukarasu', 'karpakam', 'kamalakannan', 'joyal@joyalfrancis', 'raj@yuvaraj', 'rajasekar', 'rajendran', 'rafiq@mohamedrafiq', 'pushpalingam', '', '', '', '', '']\n",
      "y\n",
      "None ['casesk.cr.no./', 'casesk.cr.no/', 'casesk.cr.no/', 'casesk.cr.no/', 'casesk.cr.no/', 'casesvpscr.no./', 'casesvpscr.no./', 'casesvcr.no./', 'casessathyaveedup.scr.no:/ipc(kandasamy)acq', 'casesccbcrno:/(c)r/w©', 'casesktpchathirampscr.no./', 'casesgkilpaukpscr.no./', 'casesktpchathirampscr.no./cr.p.cad', 'casesktpchathirampscr.no./cr.p.cad', 'caseskpscr.no.&/ipcui', 'caseskpscr.no./', 'actxivofdetentionsl.no.bdfgisdetails', 'actxivofdetention/bdfgis/', '/bdfgissv/dated..', 'presentactivitiesdoingwaterbusinessandwholesalericebusinessattpchathiramareas.outsidekilpaukdistrictheisinvolvinginkattapanchayat.hemurderedonejayarajon..duetowaterbusinessenemityandlodgedinvelooreprisonandreleasedonbail-ov']\n",
      "n\n",
      "gnanam@thirugnanam ['immanuvel', 'ellaiyan', 'mani', 'john', 'dayalan', 'sridhar', 'karthic', 'pradeep', 'vincent', 'balu@funkbalu', 'iman@himanuvel', 'ravichandran', 'katheer@katheeravan', 'murugan@salaimuruagan', 'jayaprakash', 'jayapal', 'kannan', 'kathirasan', 'goutham', 'sivanasan', 'sathiya', 'jai@jayachandran', 'babu', 'ashok', 'thangadurai', 'zerald', 'natarajan', 'venkateshan', 'a.p.kannan', 'balaji', 'charless', 'pancha@panchacharam', 'ezhilraj', 'battric', 'ambika', 's.s.staline', 'srinath', 'hari@harikrishnan', 'vasanthakumar', 'kannan', 'prabakaran', 'mani']\n"
     ]
    },
    {
     "name": "stdout",
     "output_type": "stream",
     "text": [
      "y\n",
      "None ['casesf-ps.cr.no./.', 'casesf-ps.cr.no./.(b)', 'casesf-ps.cr.no./.ipcacq', 'casesf-pscr.no./(ii)ipcad', 'casesk.pscr.no/', 'casesb-cr.no./', 'casesf-ps.cr.no./.', 'casesb-pscr.no./', 'casesb-pscr.no./©r/warmsactfad', 'casesf-ps.cr.no./.', 'casesk-ps.cr.no./', 'casesrp.s.cr.no/(a)', 'casesk-pscr.no./', 'casesf-pscr.no./.', 'casesf-pscr.no./', 'casesf-pscr.no./', 'casesk-pscr.no./', 'casess-ps.cr.no./.', 'casesf-ps.cr.no./', 'casesg-ps.cr.no./', 'casesr-ps.cr.no./', 'casesk-ps.cr.no./', 'casesp-ps.cr.no./.', 'actxivofdetentionsl.no.bdfgisdetails', 'actxivofdetention', 'presentactivitieshemurderedoneadvocaterajinikanthategmorecourtpremises.advocate-doingkattapanchayat-present']\n",
      "n\n",
      "krishnaveni ['amlet@selvaraj', 'thomas', 'john', 'palani', 'kalai@kalaiselvan', 'shanmugam', 'senbakavalli', 'sekar', 'kumar', 'mannu@mannuboopathi', 'arokkiyadoss', 'harikrishnan', 'sudhakar', 'raja', '']\n",
      "y\n",
      "None ['casesk-pscr.no./', 'casesk-pscr.no./', 'casesk-pscr.no./', 'casesk-pscr', 'casesk-pscr.no./', 'casesv-pscr.no./', 'casesj-pscr.no./', 'casespewcr.no./()itnpactcon', 'casespewcr.no./()itnpactcon', 'casesk-pscr.no./()itnpactcon', 'casesk-pscr.no./()atnpactcon', 'casesk-pscr.no./()itnpactcon', 'casesk-pscr.no./()itnpactcon', 'casesk-pscr.no./()atnpactcon', 'casesk-pscr.no./()atnpactcon', 'casesk-pscr.no./()atnpactcon', 'casesk-pscr.no./()atnpactcon', 'casesk-pscr.no./()tnpactcon', 'casesk-pscr.no./()atnpactcon', 'casesk-pscr.no./()atnpactcon', 'casesk-pscr.no./()atnpactcon', 'casesk-pscr.no./()atnpactcon', 'casesk-pscr.no./()atnpactcon', 'casesk-pscr.no./()atnpactcon', 'casesk-pscr.no./()itnpactcon', 'casesk-pscr.no./()atnpactcon', 'casesk-pscr.no./()itnpactcon', 'casesk-pscr.no./()atnpactcon', 'casesk-pscr.no./()atnpactcon', 'casesk-pscr.no./()atnpactcon', 'casesk-pscr.no./()itnpactcon', 'casesk-pscr.no./cpactcon', 'casesk-pscr.no./()atnpactcon', 'casesk-pscr.no./()atnpactcon', 'casesk-pscr.no./()atnpactcon', 'casesk-pscr.no./()atnpactcon', 'casesk-pscr.no./()atnpactcon', 'casesk-pscr.no./()atnpactcon', 'casesk-pscr.no./()atnpactcon', 'casesk-pscr.no./()atnpactcon', 'casesk-pscr.no./()atnpactcon', 'casesk-pscr.no./()atnpactcon', 'casesk-pscr.no./()atnpactcon', 'casesk-pscr.no./()atnpactcon', 'casesk-pscr.no./()atnpactcon', 'casesk-pscr.no./()atnpactcon', 'casesk-pscr.no./()atnpactcon', 'casesk-pscr.no./©r/w(b)ndpsactcon', 'casesk-pscr.no./©r/w(b)ndpsactacq', 'casesk-pscr.no./©r/w(b)ndpsactcon', 'casesk-pscr.no./©r/w(b)ndpsactcon', 'casesnibcr.no./©r/w(b)ndpsactacq', 'casesnibcr.no./©r/w(b)ndpsactcon', 'casesk-pscr.no./©r/w(b)ndpsactcon', 'casesk-pscr.no./©r/w(b)(ii)andpsactcon', 'casesk-pscr.no./©r/w(b)(ii)bndpsactpt', 'casesk-pscr.no./©r/w(b)ndpsactpt', 'casesk-pscr.no/', 'casesk-pscr.no./©r/w(b)ndpsactcon', 'casesk-pscr.no./©r/w(b)ndpsactcon', 'casesk-pscr.no./©r/w(b)(ii)andpsactacq', 'casesk-pscr.no./©r/w(b)ndpsactui', 'casesk-pscr.no./©r/w(b)ndpsactcon', 'casesk-pscr.no./©r/w(b)(ii)bndpsactacq', 'casesk-pscr.no./©r/w(b)ndpsactcon', 'casesk-pscr.no./©r/w(b)ndpsactcon', 'casesk-pscr.no./©r/w(b)(ii)bndpsactacq', 'casesk-pscr.no./©r/w(b)(ii)bndpsactacq', 'casesk-pscr.no./©r/w(b)(ii)bndpsactacq', 'casesk-pscr.no./©r/w(b)(ii)bndpsactacq', 'casesk-pscr.no./©r/w(b)ndpsactcon', 'casesk-pscr.no./©r/w(b)ndpsactacq', 'casesk-pscr.no./©r/w(b)ndpsactacq', 'casesk-pscr.no./©r/w(b)ndpsactacq', 'casesk-pscr.no./', 'casesk-pscr.no./', 'casesk-pscr.no./©r/w(b)ndpsactcon', 'casesk-pscr.no./©r/w(b)ndpsactacq', 'casesk-pscr.no./©r/w(b)(ii)bndpsactcon', 'casesk-pscr.no./©r/w(b)(ii)andpsactcon', 'casesk-pscr.no./©r/w(b)(ii)bndpsactcon', 'casesk-pscr.no./©r/w(b)(ii)bndpsactcon', 'casesk-pscr.no./©r/w(b)(ii)bndpsactacq', 'casesk-pscr.no./©r/w(b)()ndpsactcon', 'casesk-pscr.no./©r/w(b)()ndpsactpt', 'casespewcr.no./©r/w(b)()ndpsactpt', 'casesk-pscr.no./©r/w(b)()ndpsactcon', 'casesk-pscr.no./©r/w(b)()ndpsactacq', 'casesk-pscr.no./©r/w(b)()ndpsactacq', 'casesk-pscr.no./©r/w(b)()ndpsactcon', 'casesk-pscr.no./©r/w(b)ndpsactui', 'casesk-pscr.no./©r/w(b)()andpsactui', 'casesk-pscr.no./©r/w(b)ndpsactui', 'casesk-pscr.no./©r/w(b)ndpsactui', 'casesk-pscr.no./©r/w(b)ndpsactui', 'casesk-pscr.no./©r/w(b)(ii)bndpsactui', 'casesk-pscr.no./©r/w(b)(ii)bndpsactui', 'casesk-pscr.no./©r/w(b)ndpsactui', 'casesk-pscr.no./©r/w(b)()ndpsactui', 'casesnibcr.no./©r/w(b)(ii)b&ndpsactui', 'casesk-pscr.no./©r/w(b)(ii)andpsactui', 'casesk-pscr.no./©r/w(b)(ii)bndpsactui', 'casesnibcr.no./©r/w(c)ndpsactcon', 'kpscr.no./cr.p.c.con', 'ktpchathiramcr.no./()(a)tnpactcon', 'kpscr.no/cr.p.c.con', 'kpscr.no./()(a)r/w()(a)tnpactui', 'kcr.no./(c)r/w(b)()(c)', 'actxivofdetentionsl.no.bdfgisdetails', 'actxivofdetention.pew//befgis/dt...', 'actxivofdetention./bdfgis/dt...', 'presentactivitiesrecentlyon..ateastclubroadkgofganjaseizedfromherandlodgedinjail.']\n",
      "n\n",
      "thirunavukarasu@thiruna@gunduthiruna. ['shanmugam', 'muniyan', 'prakash', 'mari@mariyappan', 'chakkarabani', 'raja', 'navaganesh']\n",
      "y\n",
      "None ['kumar@annamalai', 'velu', 'venkateshan', 'kesavan', 'veerasamy', 'karunakaran', 'rajendran', 'chinna']\n",
      "o\n",
      "None ['casesd-pscr.no./', 'casesd-pscr.no./', 'casesd-pscr.no./', 'casesd-ps.cr.no./', 'casesd-pscr.no./', 'casesd-ps.cr.no./', 'casesd-ps.cr.no./', 'casesd-ps.cr.no./', 'casesd-ps.cr.no./', 'casese-pscr.no./', 'casesj-pscr.no./', 'casese-pscr.no./', 'casesd-ps.cr.no./', 'casesd-pscr.no./', 'casesd-ps.cr.no./', 'casesd-pscr.no./', 'casesd-ps.cr.no./', 'casesd-ps.cr.no./', 'casesdpscr.no./', 'casesdpscr.no./()atnpactacq', 'casesdpscr.no./()atnpactacq', 'casesdpscr.no./cpactcon', 'casesdpscr.no./cpactcon', 'casesdpscr.no./', 'casesdpscr.no./', 'casesdpscr.no./', 'casesdpscr.no./', 'casesdpscr.no./', 'casesdpscr.no./ipcacq', 'casesdpscr.no./', 'casesdpscr.no./', 'casesdpscr.no./crpcr/w()(a)claactuidt..', 'actxivofdetentionsl.no.bdfgisdetails', 'actxivofdetention/bdfgis/dt.', 'actxivofdetention/bdfgis/dt..', 'actxivofdetention/bdfgis/', 'actxivofdetention/bdfgis/dt..', 'presentactivitiesthdivisiondmksecretary-present']\n",
      "n\n",
      "magesh@periyamageshm/s/ ['ravi@pookadairavi', 'nainasuresh', 'udukkanelumalaima/', 'bashkar@uttaichaikadalaibashkar', 'senthilkumar@senthil', 'kusmi@muthuvel', 'vetrivel', 'dharman@dharma', 'manrosh', 'ramesh', 'stalin', 'vekatesh@kattukavenkatesh', 'saravanan@kalvaisaravanan', 'mahadevan', 'venkatesh', 'sivakumar', 'raja@kattupurathuraja', 'suresh@kuttipulisuresh', 'babu@shipsbabu', 'makkanvelu@velu', 'haribabu', 'vel', 'vijayakumar', 'pachai@padmanapan', 'sivaraman', 'saravanan', 'prasath', 'venkateshan@metrovenkteshan', 'sureshkumar', 'selvakumar', 'nanthagopal', 'dhanasekar']\n",
      "y\n",
      "None ['casese-pscr.no./', 'casese-pscr.no./(b)(ii)', 'casese-pscr.no./', 'casese-pscr.no./', 'casese-pscr.no./', 'casese-pscr.no./', 'casese-pscr.no./', 'casese-pscr.no./', 'casese-pscr.no./', 'casese-pscr.no./', 'casese-pscr.no./', 'casese-pscr.no./', 'caseskpmchunambeducr.no./.', 'casese-pscr.no./(b)ndpsactacq', 'casese-pscr.no./', 'casese-pscr.no./', 'casese-pscr.no./', 'casesjpscr.no./', 'casese-foreshoreestatepscr.no./r/wofindianarmsactui', 'casese-pscr.no./()atnpactcon', 'casese-pscr.no./cpactcon', 'casese-pscr.no./', 'casese-pscr.no./cpactcon', 'casese-pscr.no./', 'casese-pscr.no./crpcr/w()aclaactacq', 'casese-pscr.no./', 'casese-pscr.no./', 'casese-pscr.no./', 'casese-pscr.no./', 'casese-pscr.no./cpactcon', 'casese-pscr.no./', 'casese-pscr.no./', 'casese-pscr.no./()oftnppdactacq', 'casese-pscr.no./()oftnppdactacq', 'casese-pscr.no./(b)ndpsactacq', 'casese-pscr.no./(b)ndpsactpt', 'casese-pscr.no./()atnpactcon', 'casese-pscr.no./', 'caseskpmchunambeducr.no./', 'caseskpmchunambeducr.no./(b)', 'casesepscr.no./', 'casesepscr.no./', 'actxivofdetentionsl.no.bdfgisdetails', 'actxivofdetention./bdfgis/()/bdfgis/()/bdfgis/dtd..()/bdfgis/dtd..', 'actxivofdetention.()/bdfgissv/dated..bychunambedups', 'actxivofdetention.()/dated..', 'presentactivitiesheisanotoriousgangster.hehavingenmitywithonesivakumarofmylapore-hereleasedonbailon..-ov']\n",
      "n\n",
      "raja@dokkanraja ['sekar', 'kozhisekar', 'kuppusami', 'raja', 'senthil', 'jeeva', 'karka@karkavenkateshan', 'senthil@kizhavansenthil', 'jiva', 'raja', 'devi', 'pushpa', 'sekar', 'raji@nattupuraraj', 'appun@parthasarathi', 'murali', 'selam@selva', 'muthuraj', 'kapali', 'deepan', 'gopisekar', 'kuppusami', 'raja', 'senthil']\n"
     ]
    },
    {
     "name": "stdout",
     "output_type": "stream",
     "text": [
      "y\n",
      "appu@krishnasamy ['rajendran@gaterajendran', 'kattpanchayath&smugglingofsandlewoodlavanya', 'kattpanchayath&smugglingofsandlewoodlavanya', 'kattpanchayath&smugglingofsandlewoodlavanya', 'kattpanchayath&smugglingofsandlewoodlavanya', 'kattpanchayath&smugglingofsandlewoodushan@zahirushan', 'sundar', 'arunlalkadhardoss', 'rajan', 'arokkiyadoss', 'jaiganesh', 'saravanan', 'sivakumar', 'sugumar', 'ganeshkumar', 'kathiravan()', '', '']\n",
      "y\n",
      "None ['casesj-pscr.no./ipcr/w', 'casesf-pscr.no./', 'casesf-pscr.no./', 'casesh-pscr.no./', 'casese-pscr.no./', 'casesj-pscr.no./', 'casesr-pscr.no./', 'casesi-pscr.no./', 'casesi-pscr.no./', 'casesforeshoreestateps.cr.no./(b)', 'casesbvishnukanchi.ps/ipcacqon..', 'casese-pscr.no./cr.p.c.con', 'actxivofdetentionsl.no.bdfgisdetails', 'actxivofdetention./bdfgis/', 'presentactivitieshemurderedsankarramanatkanchipuram.rosewoodsmuggling']\n",
      "n\n",
      "sivakumar ['nirmal', 'thamilselvan', 'srini@srinivasan@muthamilselvan', 'chandraf/s', 'eswaran', '.anandan', '.vinoth', '.rajesh', '.karthikeyan', '.jeva', '.bashkar@kuttibashkar', '.yuvaraj', '.renuga', '.shanmugam', '.suresh', '.mappadubashkar', '.pudurappu', '.thulukanam', '.rajesh', '.selvam', '.olimurugan', '.satimurugan', '.mathivanan', '.suriyakumar', '.nithiya@nithiyanandam', '.kalaivanan', '.mathan', '.barath@sottaibarath']\n",
      "y\n",
      "None ['casese-cr.no/', 'casese-cr.no/', 'casese-cr.no/', 'casese-cr.no/', 'casesdcr.no./ipcacq', 'casese-cr.no/', 'casese-cr.no/', 'casese-cr.no/', 'casese-cr.no/', 'casesdcr.no./', 'casescr.no./', 'casesecrno/', 'casesecrno/', 'casese-cr.no/', 'casese-pscr.no./', 'casese-pscr.no./', 'casese-pscr.no./', 'casese-pscr.no./', 'casese-pscr.no./', 'casese-pscr.no./cr.pcr/w()aclaactad', 'casesdpscr.no./', 'casese-pscr.no./', 'casese-pscr.no./', 'casese-pscr.no./()atnpactcon', 'casese-pscr.no./', 'casese-pscr.no./', 'casesdpscr.no./', 'casese-pscr.no./ipcpt', 'casese-pscr.no/', 'casese-pscr.no/(b)', 'casesepscr.no./', 'casesepscr.no./', 'casesepscr.no./', 'epscr.no./', 'actxivofdetentionsl.no.bdfgisdetails', 'actxivofdetention.()/bdfgis/dated..()/bdfgis/dated..()/bdfgis/dated..()/bdfgis/dt...()/bdfgisv/dt..', 'actxivofdetention.()/dated..', 'presentactivitieshemurderedbillasureshandviji@vijiyanrelativesofperiyamaheshon...nowhewasarrestedinepscr.no./on..andlodgedinpuzhaljail.herecentlyreleasedonbailon...herecentlyarrestedinepscr.no./andreleasedonbailon..-ov']\n",
      "n\n",
      "kali@kalyanasundaram ['citibabu', 'senthil', 'dharma', 'ramesh', 'mandrows', 'punniya@punniyanathan', 'kanniyappan', 'singaram']\n",
      "y\n",
      "None ['billa@suresh', 'manikkam', 'navanitham@sasi@sasikumar', 'raja@jayaraj', 'hari', 'ramesh@uttichaikadalairamesh', 'venkatash', 'raja', 'navaganesh', 'mari']\n",
      "o\n",
      "None ['casese-pscr.no./ipcsc.no./ca/lifecon.(appealconfirmedon..)', 'casese-pscr.no./', 'casese-pscr.no./', 'casese-pscr.no./', 'casese-pscr.no./ipc(thirunavukarasu)acq', 'casesd-pscr.no./', 'casesd-pscr.no./', 'casescoovathurpscr.no./ipcacq', 'casesr-pscr.no/(b)', 'casesr-pscr.no./', 'casesd-pscr.no./', 'casessoonambedupscr.no./ipc(ratinamkumar&vadivelu)acq', 'actxivofdetentionsl.no.bdfgisdetails', 'actxivofdetentionnil', 'presentactivitiesconvictedtolifeimprisonmentine-ps.cr.no./u/sipcduringandlodgedincuddalorejail.']\n",
      "n\n",
      "ravikumar@rakkappan ['ravi@katpadiravi', 'aruldoss', 'rottisrinivasan', 'adushankar', 'raja@kullaraja', 'ranganathan', 'sekar', 'guna', 'kumar', 'kumar', 'kumar', 'nagappan', 'mani', 'deenadhayalan', 'appunu@parthasarathi', 'venkateshan@kattukkavenkateshan']\n",
      "y\n",
      "None ['casesj-pscr.no./', 'casesj-pscr.no/', 'casese-pscr.no./ipcacq', 'casesr-pscr.no./ipcacq', 'casesj-pscr.no./ipcacq', 'casesr-pscr.no./ipcacq', 'casesr-pscr.no./ipcacq', 'casesr-pscr.no./ipcacq', 'casesj.j.nagarpscr.no./', 'casesselayurpscr.no./ipcacq', 'casesvalasaravakkampscr.no./ipcacq', 'casesmahabalipurampscr.no./ipcacq', 'casesthuripakkampscr.no./', 'casesj-pscr.no./ipcacq', 'casesponneripscr.no./ipcacq', 'casese-pscr.no./', 'casese-pscr.no./', 'casesj-ps.cr.no./', 'casesjpscr.no./', 'casesemylaporepscr.no./kipccon', 'casesvpscr.no./kipcacq', 'casesvpscr.no./kipcacq', 'caseskundrathurpscr.no./', 'casesvandavasipscr.no./ipcui', 'casessrigazhipscr.no./u/sipcpt', 'casessrigazhipscr.no./u/sipcpt', 'actxivofdetentionsl.no.bdfgisdetails', 'actxivofdetention/bdfgis/', 'actxivofdetention/bdfgis/', 'presentactivitieshekidnappedacardriverbabufrommangadualongwithcarandmurderedhimatvandavasiandescaped.laterhesurrenderedandreleasedonbailon...afterthathewasarrestedbysirgazhipoliceandwasdetainedundergoondasact.hewasreleasedonbailduringjune-ov']\n",
      "n\n",
      "kandan ['ravi@ravichandran@katpadiravi', 'srinivasan@rottisrinivasan', 'sankar', 'raja@kullaraja', 'aruldoss', 'raji@mookanraji', 'tominic', 'anandan', 'chittibabu', 'arumugam', 'shankar', 'durai', 'raja', 'sekar@sakkataisekar', 'rangan', 'kabali', 'singaram', 'babu', 'jegan@jegathishan', 'm.rameshbabu', 'nelson', 'chinna', 'vicky@vinkneshwaran', 'sudhakar@sudhakaran', 'muniyan']\n",
      "y\n",
      "None ['casesj-kotturpurampscr.no./cpactcon', 'casesj-kotturpurampscr.no./ipcacq', 'casesj-kotturpurampscr.no./', 'casesj-kotturpurampscr.no./', 'casesj-kotturpurampscr.no./cpactcon', 'casesj-kotturpurampscr.no./ipcacq', 'casesj-kotturpurampscr.no./', 'casesj-kotturpurampscr.no./ipc(gymelumalai)acq', 'casesj-kotturpurampscr.no./', 'casesj-kotturpurampscr.no./', 'casesj-kotturpurampscr.no./', 'casesj-kotturpurampscr.no./', 'casesj-kotturpurampscr.no./', 'casesj-kotturpurampscr.no./', 'casesj-kotturpurampscr.no./', 'actxivofdetentionsl.no.bdfgisdetails', 'actxivofdetentionnil', 'presentactivitiespoliticalrowdy(aiadmk)-thdivisionsecretary.m.c-present']\n",
      "n\n",
      "panneer@panneerselvam ['senthi', 'kannan', 'arunagiri', 'siva@korangusiva', 'selvam@sappaiselvam', 'ravikumar', 'manikandan', 'kanagaraj', 'doss', 'gopi', 'venkateshan', 'ramesh@rameshbabu', 'kannan', 'pradap', 'madhavan', 'sathiyanarayanan', 'krishnan', 'thiruvenkatam']\n",
      "y\n",
      "None ['casesj-pscr.no./', 'casesj-pscr.no./', 'casesj-pscr.no./', 'casesj-pscr.no./', 'casespallikaranaipscr.no./(doublemurder)(gundumani&shajahan)(nbwfrom)', 'casesj-pscr.no./', 'casesj-pscr.no./', 'casesj-pscr.no./', 'casesd-otteri(kanchipuram)pscr.no./', 'caseschrompetpscr.no./', 'actxivofdetentionsl.no.bdfgisdetails', 'actxivofdetention./bdfgis/', 'presentactivitiesheisanotoriousrowdy.havingenmitywithonethiruvenkadamofvelachery.(o.v)']\n",
      "n\n",
      "murugan@kullamurugan ['suresh', 'praba@prabakaran', 'sathish@pulli', 'suresh', 'rangan', 'sekar', 'venkateshan@panepettaivenkateshan', 'murugan', 'loganathan', 'baskar', 'vinayakam@selvavinayakam', 'ramesh', 'senthil', 'balakumar']\n",
      "y\n",
      "None ['casesj-pscr.no./', 'casesj-pscr.no./', 'casesj-pscr.no./', 'casesj-pscr.no./', 'casesj-pscr.no./', 'casesj-pscr.no./', 'casesj-pscr.no./', 'casesj-pscr.no./', 'casesj-pscr.no./', 'casesj-pscr.no./', 'casesj-pscr.no./', 'casesj-pscr.no./', 'casesr-pscr.no./', 'casesr-pscr.no./', 'r.pscr.no/', 'actxivofdetentionsl.no.bdfgisdetails', 'actxivofdetention./bdfgis/dt...', 'presentactivitiescloseassociateoflatefunkkumar-hewasmurderedbyoneloguhsofmambalampsduetoillegalintimacywithhiswifeon..']\n",
      "n\n",
      "sugu@sugumaran ['manikandan', 'ramesh@siluvairamesh', 'baskar', 'suresh', 'natarajan', 'balu', 'balu', 'chandru']\n",
      "y\n",
      "None ['anbu', 'kasinathan', 'udhayashankar', 'prabhushankar', 'sugumar', 'jega', 'pancha@panchacharam', 'saravanan', 'viji@vijayakumar']\n",
      "o\n",
      "None ['casesj-pscr.no./ipcacq.', 'casesj-pscr.no./', 'casesr-pscr.no./', 'casesr-pscr.no./', 'casesr-pscr.no./', 'casesh-pscr.no./', 'casesj-pscr.no./', 'casesj-pscr.no./ipc(venketesan)acq', 'casesvijayavadanorthtown-pscr.no./', 'actxivofdetentionsl.no.bdfgisdetails', 'actxivofdetention./bdfgis/dt...', 'actxivofdetention./bdfgis/dt...', 'presentactivitieshemurderedvenketesanwhowasoneofthecloseassociateof(late)punkkumar.heisnowacloseassociateofceizingraja&arcotsuresh.itislearntthatheisdoingfinancebusinessinvillivakkamarea-ov']\n",
      "n\n",
      "kumar@vellaikumar ['ranjith@ranjithkumar', 'asrappan@babu', 'kannadasan', 'raji@kattupunai', 'appavu@chellam@chella', 'arul', 'murali', 'shankar@towbleshankar', 'ravi', 'santhanam', 'ganeshan', 'jana@janarthanam', 'ramanan', 'chandran', 'suresh', 'selvam', 'elumalai', 'nagarajan', 'madhan', 'balaji', 'kumar@selvakumar@cdkumar', '', '']\n",
      "y\n",
      "None ['casese-pscr.no./', 'casese-pscr.no./', 'casese-pscr.no./', 'casese-pscr.no./', 'casese-pscr.no/', 'casese-pscr.no./', 'casese-pscr.no./', 'casesr-pscr.no./', 'casesr-.cr.no./', 'casesr-cr.no./', 'casesr-cr.no./', 'casesr-cr.no./', 'casesr-pscr.no./', 'casesk-pscr.no./', 'actxivofdetentionsl.no.bdfgisdetails', 'actxivofdetention./bdfgis/dt....', 'presentactivitieshemurderedvazhathopusathishalongwithcdmaniinretaliationtothemurderofadayarsiva.nowheisinactive.heishidingincumbumdistrict-ov']\n"
     ]
    },
    {
     "name": "stdout",
     "output_type": "stream",
     "text": [
      "n\n",
      "error\n",
      "katairaja@saravanan ['rajamani', 'kattaiah@senthilkumar', 'ayyapan', 'c.d.mani', 'gurumuthy', 'sathya@sathiyarajm/', 'kannan']\n",
      "y\n",
      "None ['cases..kudavasalpscr.no./u/s.', 'cases.patteswarampscr.no./u/s.', 'cases.mannargudipscr.no./u/s.', 'cases.nachiyarkoilpscr.no./u/s.', 'cases.rkknagarpscrno./', 'cases.kcr.no/u/sipc(vazhathoppusathish)ptnbw..', 'cases.rpscr.no./u/s(b)', 'cases.rpscr.no./u/s', 'cases.r-pscr.no/u/s', 'cases.rpscr.no./u/s', 'cases.singanallurpscr.no./u/sipc(somu)ui', 'cases.rpscr.no./', 'cases.pateeswarampscr.no./', 'actxivofdetentionsl.no.bdfgisdetails', 'actxivofdetention/bdfgis/', 'actxivofdetention/bdfgis/', 'actxivofdetention/bdfgis/dt...', 'actxivofdetention/bdfgissv/dts..', 'presentactivitiesrealeasedbailon--.healongwithhisassociatesmurderedsenthilatthanjavurdistrict.thedeceasedsenthilwasco-accusedinsinganallurmurdercase-ov']\n",
      "n\n",
      "manikandan@mani@c.d.mani ['santhoshkumar()', 'selvakumar()', 'yuvaraj()', 'ranjith()', 'gopi()', 'chinnavinoth()', 'panchatcharam()', 'pandi@pandian()', 'suresh@lukkasuresh()', '.ramu@ramkumar()', '.pottaivinodhkumar()', '.katairaja', '.hariharan()', '.paulraj', '.kusmi@muthuvel', '.thavakkalaiprakash']\n",
      "y\n",
      "None ['cases.eteynampetcr.no./', 'cases.eteynampetcr.no./', 'cases.eteynampetcr.no./', 'cases.eteynampetcr.no./', 'cases.eteynampetcr.no./', 'cases.eteynampetcr.no./', 'cases.eteynampetcr.no./', 'cases.rkknagarcr.no./', 'cases.rmambalamcr.no./ipcpt', 'cases.kkoyambeducr.no./ipc(deceased–valathopusathish)pt', 'cases.eteynampetcr.no./', 'cases.eteynampetcr.no./', 'cases.jkotturpuramcr.no./manmissing@', 'cases.jkotturpuramcr.no./', 'cases.e-teynempetpscr.no./u/s', 'cases.wallajapettaipscr.no./ipcr/w(i)(b)(a)indianarmsact’ui', 'cases.wallajapettaipscr.no./()cr.pc@ipc(deceased-ceylonmohan)ui', 'cases.jsaidapetpscr.no./', '.rmgrnagarpscr.no./', 'actxivofdetentionsl.no.bdfgisdetails', 'actxivofdetention/bdfgis/-dated:..', 'actxivofdetention/bdfgis/–dated:..', 'actxivofdetention/bdfgis/dated..', 'presentactivitieshemurderedoneceylonmohanatwallajapettaips']\n",
      "n\n",
      "siva@marketsiva ['ellappan', 'ummashanmugam@shanmugam.', 'raja@seizingraja.', 'hari@haridas', 'kothandam']\n",
      "y\n",
      "None ['casess-tambarampscr.no./ipcacq', 'casess-tambarampscr.no./', 'casess-tambarampscr.no./', 'casess-tambarampscr.no./', 'casess-tambarampscr.no./', 'casess-tambarampscr.no./', 'casess-tambarampscr.no./', 'casess-tambarampscr.no./', 'casess-tambarampscr.no./', 'casess-tambarampscr.no./', 'casess-tambarampscr.no./ipcacq', 'casesmaraimalainagarpscr.no./ipc.acq', 'casesmanimangalampscr.no./', 'casesguduvancherypscr.no./', 'caseswallajabathpscr.no./', 'casesspscr.no./', 'casess-pscr.no./', 'casess-chrompetpscr.no./', 'actxivofdetentions.nobdfgisdetails', 'actxivofdetention.no./bdfgis/', 'actxivofdetention.no:/bdfgissv/-dt:..', 'presentactivitieshewasarrestedinscaseandreleasedonbailon..-ov']\n",
      "n\n",
      "raja@seizingraja ['suresh@arcotsuresh()', 'munivel()', 'pakkia()', 'prathap', 'prasath', 'aadhi@aadhikesavan()', 'manikandan()']\n",
      "y\n",
      "None ['cases.palurps/', 'cases.guduvancheryps/', 'cases.guduvancheryps/', 'cases.guduvancheryps/', 'cases.chenglepettalukps/ipcpt', 'cases.chenglepettalukps/', 'cases.pulianthopeps/ipcpt', 'cases.rajamangalamps/ipcpt', 'cases.selaiyurps/', 'cases.manimangalamps/ipcpt', 'cases.selaiyurps/', 'cases.poonamalleeps/', 'cases.tambaramps/', 'cases.peerkankaranaips/', 'cases.selaiyurps/', 'cases.pallavaramps/(b)', 'cases.peerkankaranaips/', 'cases.poonamalleeps/', 'cases.tpoonamalleepscr.no./ipcui', 'cases.tpoonamalleepscr.no./', 'sselaiyurpscr.no./', 'actxivofdetentionsl.no.bdfgissvdetails', 'actxivofdetention.()/dated..', 'actxivofdetention.()/dated..', 'actxivofdetention.()/dated..()bdfgissv/dtd..byselaiyurps', 'presentactivitiesalongwitharcotsureshhemurderedchinnakesavuluandbhagatsingh(advocate).hewasagainarrestedon..andlodgedinprison.nowheisreleasedonbailandpresentlocationchittoordist-ov.herecentlyarrestedon..inspscr.no./andlodgedinjail.']\n",
      "n\n",
      "baskar@kuttibaskar ['sivakumar', 'karthicka-', 'kutti@manimarana-', 'sasikanth@suryakantha-', 'jeeva@jeganathana-']\n",
      "y\n",
      "None ['cases.stambarampscr.no./', 'cases.otteripscr.no./', 'cases.manimangalampscr.no./cr.p.c@', 'cases.e-pscr.no./', 'cases.dpscr.no./', 'cases.guduvancherypscr.no./', 'cases.s-tambarampscr.no./(b)', 'cases.s-tambarampscr.no./(b)', 'cases.s-tambarampscr.no./', 'cases.s-tambarampscr.no./', 'cases.s-tambarampscr.no./', 'actxivofdetentionsl.no.bdfgissvdetails', 'actxivofdetention.)/s-/)/kelambakkam/', 'actxivofdetention.)/r-/)/s-/', 'actxivofdetention.)/s-/)/s-/()//sdated..', 'presentactivitiesheisanotoriousgangsterandacloseassociateoflategunduraj.heconspiredthemurderofperumalofguduvancheryfromprisonandlaterincludedinthemurdercase.heishavingmotivewithpadappaigunaofkanchipuramdistrict.hereleasedfrompuzhaljailon..-ov']\n",
      "n\n"
     ]
    }
   ],
   "source": [
    "i = 0\n",
    "tables = document.tables\n",
    "old_name = None\n",
    "for x in tables:\n",
    "    try:\n",
    "        name,associates = get_associates_and_name(x)\n",
    "        print(name,associates)\n",
    "        c = input()\n",
    "        if c.lower().strip()=='y':\n",
    "            write_to_file(f,name,associates)\n",
    "        elif c.lower().strip()=='o':\n",
    "            write_to_file(f,old_name,associates)\n",
    "        old_name = name\n",
    "    except:\n",
    "        print('error')\n",
    "    \n",
    "        "
   ]
  },
  {
   "cell_type": "code",
   "execution_count": 25,
   "metadata": {},
   "outputs": [],
   "source": [
    "f.close()"
   ]
  },
  {
   "cell_type": "code",
   "execution_count": null,
   "metadata": {},
   "outputs": [],
   "source": []
  }
 ],
 "metadata": {
  "kernelspec": {
   "display_name": "Python 3",
   "language": "python",
   "name": "python3"
  },
  "language_info": {
   "codemirror_mode": {
    "name": "ipython",
    "version": 3
   },
   "file_extension": ".py",
   "mimetype": "text/x-python",
   "name": "python",
   "nbconvert_exporter": "python",
   "pygments_lexer": "ipython3",
   "version": "3.7.6"
  }
 },
 "nbformat": 4,
 "nbformat_minor": 2
}

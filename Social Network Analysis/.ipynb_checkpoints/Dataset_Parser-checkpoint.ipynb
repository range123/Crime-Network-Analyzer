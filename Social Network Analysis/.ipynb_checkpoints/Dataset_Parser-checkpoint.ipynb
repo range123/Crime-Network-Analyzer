{
 "cells": [
  {
   "cell_type": "code",
   "execution_count": 2,
   "metadata": {},
   "outputs": [],
   "source": [
    "import pandas as pd\n",
    "from docx.api import Document"
   ]
  },
  {
   "cell_type": "code",
   "execution_count": 3,
   "metadata": {},
   "outputs": [],
   "source": [
    "path = './dataset/crime-dataset-5records.docx'\n"
   ]
  },
  {
   "cell_type": "code",
   "execution_count": 4,
   "metadata": {},
   "outputs": [],
   "source": [
    "def remove_dup(row):\n",
    "    b = []\n",
    "    for x in row:\n",
    "        if x not in b:\n",
    "            b.append(x)\n",
    "    return b"
   ]
  },
  {
   "cell_type": "code",
   "execution_count": 5,
   "metadata": {},
   "outputs": [],
   "source": [
    "# for x in document.tables:\n",
    "def get_data(table):\n",
    "    x = table\n",
    "    data = []\n",
    "    for y in x.rows:\n",
    "        data.append(remove_dup([i.text.strip().lower().replace('\\n','').replace('\\t','').replace(' ','') for i in y.cells]))\n",
    "    return data"
   ]
  },
  {
   "cell_type": "code",
   "execution_count": 6,
   "metadata": {},
   "outputs": [],
   "source": [
    "def getnamefromfield(name):\n",
    "    name_with_ma = name.split(',')[0]\n",
    "    return name_with_ma.split('m/a')[0].split('f/a')[0].split('s/o')[0].split('f/o')[0].split('w/o')[0].split('d/o')[0].strip()"
   ]
  },
  {
   "cell_type": "code",
   "execution_count": 7,
   "metadata": {},
   "outputs": [],
   "source": [
    "def remove_nums(name):\n",
    "    return ''.join([x for x in name if not x.isdigit()])"
   ]
  },
  {
   "cell_type": "code",
   "execution_count": 8,
   "metadata": {},
   "outputs": [],
   "source": [
    "def get_associates_and_name(table):\n",
    "    data = get_data(table)\n",
    "#     print(data)\n",
    "    n = len(data)\n",
    "    curr_name = None\n",
    "    for i in range(n):\n",
    "        if 'name' in data[i]:\n",
    "            curr_name = getnamefromfield(remove_nums(data[i][data[i].index('name')+1]))\n",
    "    c= 0\n",
    "    associates = []\n",
    "    prev = 0\n",
    "    for i in range(n):\n",
    "        if 'associates' in data[i]:\n",
    "            c+=1\n",
    "            name = getnamefromfield(remove_nums(''.join(data[i][data[i].index('associates')+1:])))\n",
    "            associates.append(name)\n",
    "            prev = i\n",
    "    for i in range(prev+1,n):\n",
    "        name = getnamefromfield(remove_nums(''.join(data[i])))\n",
    "        associates.append(name)\n",
    "    if 's.noname&address' in associates:\n",
    "        associates.remove('s.noname&address')\n",
    "    return curr_name,associates\n",
    "\n",
    "    "
   ]
  },
  {
   "cell_type": "code",
   "execution_count": 9,
   "metadata": {},
   "outputs": [],
   "source": [
    "document = Document(path)\n",
    "name,associates = get_associates_and_name(document.tables[2])"
   ]
  },
  {
   "cell_type": "code",
   "execution_count": 10,
   "metadata": {},
   "outputs": [],
   "source": [
    "f = open('graph1.txt','a')"
   ]
  },
  {
   "cell_type": "code",
   "execution_count": 11,
   "metadata": {},
   "outputs": [],
   "source": [
    "def write_to_file(f,name,associates):\n",
    "    for x in associates:\n",
    "        f.write(str(name)+' '+str(x)+'\\n')"
   ]
  },
  {
   "cell_type": "code",
   "execution_count": null,
   "metadata": {
    "scrolled": true
   },
   "outputs": [
    {
     "name": "stdout",
     "output_type": "stream",
     "text": [
      "nagendran ['ramesh', 'sigamani@gundusiga', 'siga@ollisiga', 'murugan', 'ramesh@lambaramesh', 'arunkumar', 'bagasaravanan@saravanan', 'jeeva', 'gnanam@gnanavel', 'paramasivam', 'mohanavelan', 'shankar', 'mahesh', 'desappan', 'kuppusamy', 'selvam@soriselvam', 'sakthivel', 'jana', 'siva@kullasiva@sivakumar', 'muthamilan', 'moorthi@nondimoorthi', 'bodysaravanan', 'babloo@prabhu']\n",
      "y\n",
      "None ['casesn-pscr.no./', 'casesp-pscr.no./', 'casesp-pscr.no./', 'casesp-pscr.no./', 'casesp-pscr.no./', 'casesn-pscr.no./', 'casesp-pscr.no./', 'casesr-pscr.no./', 'casesp-pscr.no./', 'casesp-pscr.no./', 'caseshcr.no./', 'casesp-pscr.no./ipcacq', 'casesp-pscr.no./', 'casesp-pscr.no./', 'casesp-pscr.no./', 'casesp-pscr.no./', 'casesb-pscr.no./', 'casesnambiyurpscr.no/(erode)(b)', 'casesmmadavarampscr.no/', 'casespcr.no./', 'casespcr.no./', 'casespcr.no./', 'casesncr.no./', 'casespcr.no./', 'casespcr.no./', 'actxivofdetentionsl.no.bdfgisdetails', 'actxivofdetention/bdfgisv/', 'actxivofdetention/bdfgis/', 'actxivofdetention/bdfgis/', 'actxivofdetention/bdfgis/', 'presentactivitiesconvictedforyearsr.iinp-ps.cr.no./on..byvthaddl.sessionscourt.onappealcovictionwasenhancedtoyearsbythehon’blehighcourtofmadrasandpresentlylodgedinvellorejail.herecentlyinvolvedinthemurderofpalayamduetomotiveingoodshedcollectionbuthegothighcourtstayforincludinghimasaccused-jail']\n",
      "n\n",
      "murugan ['nagendran', 'ramesh', 'sigamani@gundusiga', 'siga@ollisiga', 'citibabu', 'saravanan', 'ramu', 'vijayan@veechivijayan', 'sekar', 'elango']\n",
      "y\n",
      "None ['shankar', 'pandiyan@pannipandyan', 'radhakrishnan', 'ravi@ravikumar', 'pushpakaran', 'gantha', 'sori@mathiyalagan', 'kannan', 'paramasivam', 'mohanavelan', 'ravi@olairavi']\n",
      "o\n",
      "None ['casesp-pscr.no./', 'casesp-pscr.no./ipccon', 'casesp-pscr.no./ipccon', 'casesp-pscr.no./ipccon', 'casesp-pscr.no./ipccon', 'casesp-pscr.no./ipccon', 'casesc-pscr.no./(b)ndpsactcon', 'casesp-pscr.no./(b)ndpsactcon', 'casesp-pscr.no./ipccon', 'casesp-pscr.no./ipccon', 'casesp-pscr.no./ipccon', 'casesp-pscr.no./', 'casesp-pscr.no./ipccon', 'casesk-pscr.no./', 'casesp-pscr.no./', 'casesp-pscr.no./', 'casesp-pscr.no/', 'casesp-pscr.no./', 'casesp-pscr.no./ipcacq', 'casesp-pscr.no./', 'casesp-pscr.no./', 'casess-pscr.no./ipcacq', 'casesp-pscr.no./', 'casesp-pscr.no./', 'casesp-pscr.no./cr.pc@suspiciousdeath@ipcacq', 'casesp-pscr.no./cpactr/w()(a)claactp.t', 'casesp-pscr.no./', 'casesp.pscr.no./', 'casesp-pscr.no./', 'casesp-pscr.no./', 'casesp-pscr.no./cr/w(b)n.d.p.s.actp.t', 'casesp-pscr.no./', 'casesp-pscr.no/pt', 'casesppscr.no./', 'casesbpscr.no./mcpactr/w()(a)claactpt', 'p-cr.no./ipc(dec:palayam)ui', 'actxivofdetentionsl.no.bdfgissvdetails', 'actxivofdetention/()/()/()/bdfgis/()/bdfgis/()/()p//', 'presentactivitiesbrotherofnagendran-ov']\n",
      "n\n",
      "somu@somasundaram ['chera@rajendran', 'sankar', 'karuppubabu', 'karuppuselvam', 'irumbukadaisekar', 'yesu@yesupal', 'gani']\n",
      "y\n",
      "None ['casesp-pscr.no./', 'casesp-pscr.no./', 'casesp-pscr.no./', 'casesk-pscr.no./', 'caseskoraturpscr.no./', 'casesv-pscr.no./', 'casessolavarampscr.no./', 'casessolavarampscr.no./&ipcacq', 'casesb-pscr.no./(b)indianexplosiveamendmentactandof–transferedtocbcidacq', 'casesmaduraitheppakulampscr.no./', 'casesp-pscr.no./(b)', 'casesredhillspscr.no./', 'casescbcidcr.no./(b)', 'actxivofdetentionsl.no.bdfgisdetails', 'actxivofdetention/bdfgisv/', 'actxivofdetention/bdfgis/', 'presentactivitiesconvictedforlifeimprisionmentincbcid.cr.no./(mk.balanex.mlamurdercase)puzhaljail.herecentlygotmarriedwithoneadvocateabi@abinayaon..aftergettingparole-jail']\n",
      "n\n",
      "error\n",
      "None ['actxivofdetention/bdfgisv/', 'actxivofdetention/bdfgis/', 'actxivofdetention/bdfgis/', 'actxivofdetention/bdfgis/', 'actxivofdetention/bdfgis/', 'presentactivitieshemurderedonevellaiumaacloseassociateofappu@krishnasamy.doingsmugglingofrosewoods.herecentlymurderedkathiravanacloseassociateofappuduetopreviousenemityandreleasedonbailon..-ov']\n",
      "n\n",
      "chera@rajendran ['somu@somasundaram', 'irumbukadaisekar', 'ganesan@burmaganesan', 'kameshnan', 'thambi@subramani']\n"
     ]
    }
   ],
   "source": [
    "i = 0\n",
    "tables = document.tables\n",
    "old_name = None\n",
    "for x in tables:\n",
    "    try:\n",
    "        name,associates = get_associates_and_name(x)\n",
    "        print(name,associates)\n",
    "        c = input()\n",
    "        if c.lower().strip()=='y':\n",
    "            write_to_file(f,name,associates)\n",
    "        elif c.lower().strip()=='o':\n",
    "            write_to_file(f,old_name,associates)\n",
    "        old_name = name\n",
    "    except:\n",
    "        print('error')\n",
    "    \n",
    "        "
   ]
  },
  {
   "cell_type": "code",
   "execution_count": 25,
   "metadata": {},
   "outputs": [],
   "source": [
    "f.close()"
   ]
  },
  {
   "cell_type": "code",
   "execution_count": null,
   "metadata": {},
   "outputs": [],
   "source": []
  }
 ],
 "metadata": {
  "kernelspec": {
   "display_name": "Python 3",
   "language": "python",
   "name": "python3"
  },
  "language_info": {
   "codemirror_mode": {
    "name": "ipython",
    "version": 3
   },
   "file_extension": ".py",
   "mimetype": "text/x-python",
   "name": "python",
   "nbconvert_exporter": "python",
   "pygments_lexer": "ipython3",
   "version": "3.7.6"
  }
 },
 "nbformat": 4,
 "nbformat_minor": 2
}
